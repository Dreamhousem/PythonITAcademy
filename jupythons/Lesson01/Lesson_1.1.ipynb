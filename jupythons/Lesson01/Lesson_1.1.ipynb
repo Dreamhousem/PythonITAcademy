{
 "cells": [
  {
   "attachments": {},
   "cell_type": "markdown",
   "metadata": {
    "datalore": {
     "hide_input_from_viewers": false,
     "hide_output_from_viewers": false,
     "node_id": "1Twd62v7SHwHjgm8QXUXVd",
     "report_properties": {
      "rowId": "E2uZASgmnAEQ3hlOKqPXzs"
     },
     "type": "MD"
    }
   },
   "source": [
    "# Ввод/вывод данных в Python"
   ]
  },
  {
   "attachments": {},
   "cell_type": "markdown",
   "metadata": {
    "datalore": {
     "hide_input_from_viewers": false,
     "hide_output_from_viewers": false,
     "node_id": "mdp9xUlfeYUaGcuKXVmgPs",
     "report_properties": {
      "rowId": "qOzzfzGQELCa6yRMZiSlNt"
     },
     "type": "MD"
    }
   },
   "source": [
    "## Теоретическая часть\n",
    "\n",
    "При обучении программированию, часто возникает необходимость осуществлять ввод и вывод данных в терминале."
   ]
  },
  {
   "attachments": {},
   "cell_type": "markdown",
   "metadata": {
    "datalore": {
     "hide_input_from_viewers": false,
     "hide_output_from_viewers": false,
     "node_id": "CebzSWbj0heLdkn5FUW87l",
     "report_properties": {
      "rowId": "gv85pkfIBMvBYBWufueoCg"
     },
     "type": "MD"
    }
   },
   "source": [
    "### Вывод данных в Python\n",
    "\n",
    "Для вывода данных используется функция `print`. \n",
    "`print(objects)` - выводит текстовое представление объектов, разделенных пробелом по умолчанию, в стандартный поток stdout.\n",
    "\n",
    "Для того, чтобы обеспечить гибкость вывода, в фукнкцию `print` можно передать некоторые дополнительные параметры:\n",
    "- `sep` - позволяет указать разделитель между объектами. По умолчанию равняется `' '`.\n",
    "- `end` - позволяет указать символ, атоматически подставляемый в конец напечатанного текста. По умолчанию равняется `\\n`.\n",
    "- `file` - позволяет указать, куда будет выводиться текст. По умолчанию равняется `sys.stdout`.\n",
    "\n",
    "Кроме того, у нас есть возможность использовать строковые методы форматирования, но о них мы поговорим несколько позже, когда будем рассматривать строки.\n"
   ]
  },
  {
   "attachments": {},
   "cell_type": "markdown",
   "metadata": {
    "datalore": {
     "hide_input_from_viewers": false,
     "hide_output_from_viewers": false,
     "node_id": "qVfZ23JmyAP3MXaRRY4img",
     "report_properties": {
      "rowId": "9vbBNmwSzQP7IumGQ6oPCh"
     },
     "type": "MD"
    }
   },
   "source": [
    "### Ввод данных в Python\n",
    "\n",
    "Для ввода данных из консоли используется функция input().\n",
    "\n",
    "`input(\"invite_string\")` - в интерактивном режиме происходит остановка выполнения программы и ожидается ввод пользователя. При указании `invite_string` пользователю будет выведено указанное сообщение. \n",
    "\n",
    "В указанную переменную будет помещена строка с данными, введенными пользователем. Если нам необходимо получить данные типа, отличного от строки, мы должны сделать явное преобразование типа.\n"
   ]
  },
  {
   "attachments": {},
   "cell_type": "markdown",
   "metadata": {
    "datalore": {
     "hide_input_from_viewers": false,
     "hide_output_from_viewers": false,
     "node_id": "CTkmLaM6gKauqXYDWxeebi",
     "report_properties": {
      "rowId": "D7xJFv6q1Ymq03nyUByUcz"
     },
     "type": "MD"
    }
   },
   "source": [
    "## Code Snippets"
   ]
  },
  {
   "cell_type": "code",
   "execution_count": 1,
   "metadata": {
    "datalore": {
     "hide_input_from_viewers": false,
     "hide_output_from_viewers": false,
     "node_id": "ivjBKjMH12znG2panbq00D",
     "report_properties": {
      "rowId": "SjN4PUTowQUTPidwrADgh6"
     },
     "type": "CODE"
    }
   },
   "outputs": [
    {
     "name": "stdout",
     "output_type": "stream",
     "text": [
      "42\n"
     ]
    }
   ],
   "source": [
    "# Печать объекта.\n",
    "print(42)"
   ]
  },
  {
   "cell_type": "code",
   "execution_count": 3,
   "metadata": {
    "datalore": {
     "hide_input_from_viewers": false,
     "hide_output_from_viewers": false,
     "node_id": "GDOkK3IcxrHJ4gURDSoYlz",
     "report_properties": {
      "rowId": "rmhQeE3ELMvGbgI9RWELFb"
     },
     "type": "CODE"
    }
   },
   "outputs": [
    {
     "name": "stdout",
     "output_type": "stream",
     "text": [
      "42 24 a 17\n"
     ]
    }
   ],
   "source": [
    "# Печать нескольких переданных объектов.\n",
    "print(42, 24, 'a', 17)"
   ]
  },
  {
   "cell_type": "code",
   "execution_count": 5,
   "metadata": {
    "datalore": {
     "hide_input_from_viewers": false,
     "hide_output_from_viewers": false,
     "node_id": "r2C0A69cQYvnGOkTBD1ZGf",
     "report_properties": {
      "rowId": "5VJQdNe10ulFm1n3noWYGc"
     },
     "type": "CODE"
    }
   },
   "outputs": [
    {
     "name": "stdout",
     "output_type": "stream",
     "text": [
      "42^24^0^17\n",
      "42^24^0^17\n"
     ]
    }
   ],
   "source": [
    "# Указание разделителя, отличного от значения по умолчанию.\n",
    "print(42, 24, 0, 17, sep='^')\n",
    "print(42, 24, 0, 17, sep='^')"
   ]
  },
  {
   "cell_type": "code",
   "execution_count": 6,
   "metadata": {
    "datalore": {
     "hide_input_from_viewers": false,
     "hide_output_from_viewers": false,
     "node_id": "TrYO5NTK6qFhSne3Ywq7Eh",
     "report_properties": {
      "rowId": "if5vTJm52qt6HHHxIa963S"
     },
     "type": "CODE"
    }
   },
   "outputs": [
    {
     "name": "stdout",
     "output_type": "stream",
     "text": [
      "42 24 0 17&42\n"
     ]
    }
   ],
   "source": [
    "# Указание завершающего символа.\n",
    "print(42, 24, 0, 17, end='&')\n",
    "print(42)"
   ]
  },
  {
   "cell_type": "code",
   "execution_count": 7,
   "metadata": {
    "datalore": {
     "hide_input_from_viewers": false,
     "hide_output_from_viewers": false,
     "node_id": "mGgOaDOCyoBzSdLjhxpCyN",
     "report_properties": {
      "rowId": "yYNxoTjLFflkVODegzIIG5"
     },
     "type": "CODE"
    }
   },
   "outputs": [
    {
     "name": "stdout",
     "output_type": "stream",
     "text": [
      "1234 <class 'str'>\n"
     ]
    }
   ],
   "source": [
    "# Ввод значения с консоли.\n",
    "val = input()\n",
    "print(val, type(val))"
   ]
  },
  {
   "cell_type": "code",
   "execution_count": 9,
   "metadata": {
    "datalore": {
     "hide_input_from_viewers": false,
     "hide_output_from_viewers": false,
     "node_id": "LVhWn8bgKs5gzOKaKBWJhx",
     "report_properties": {
      "rowId": "EbNxj5XGeV8vpwJLY1jicm"
     },
     "type": "CODE"
    }
   },
   "outputs": [
    {
     "ename": "ValueError",
     "evalue": "invalid literal for int() with base 10: 'asdasd'",
     "output_type": "error",
     "traceback": [
      "\u001b[1;31m---------------------------------------------------------------------------\u001b[0m",
      "\u001b[1;31mValueError\u001b[0m                                Traceback (most recent call last)",
      "Cell \u001b[1;32mIn[9], line 2\u001b[0m\n\u001b[0;32m      1\u001b[0m \u001b[38;5;66;03m# Приветственная строка, явное преобразование типа.\u001b[39;00m\n\u001b[1;32m----> 2\u001b[0m val \u001b[38;5;241m=\u001b[39m \u001b[38;5;28;43mint\u001b[39;49m\u001b[43m(\u001b[49m\u001b[38;5;28;43minput\u001b[39;49m\u001b[43m(\u001b[49m\u001b[38;5;124;43m'\u001b[39;49m\u001b[38;5;124;43mInvite string: \u001b[39;49m\u001b[38;5;124;43m'\u001b[39;49m\u001b[43m)\u001b[49m\u001b[43m)\u001b[49m\n\u001b[0;32m      3\u001b[0m \u001b[38;5;28mprint\u001b[39m(val, \u001b[38;5;28mtype\u001b[39m(val))\n",
      "\u001b[1;31mValueError\u001b[0m: invalid literal for int() with base 10: 'asdasd'"
     ]
    }
   ],
   "source": [
    "# Приветственная строка, явное преобразование типа.\n",
    "val = int(input('Invite string: '))\n",
    "print(val, type(val))"
   ]
  },
  {
   "attachments": {},
   "cell_type": "markdown",
   "metadata": {
    "datalore": {
     "hide_input_from_viewers": false,
     "hide_output_from_viewers": false,
     "node_id": "VqGdJz5gbamGQvNaDYLjEJ",
     "report_properties": {
      "rowId": "biwTVmaOKWXD0NU0LpZEYq"
     },
     "type": "MD"
    }
   },
   "source": [
    "## Задача для закреплении на занятии\n",
    "\n",
    "Запросить у пользователя три числа. Сложите первое и второе число. Вычтите от второго третье. Выведите произведение полученных значений."
   ]
  },
  {
   "cell_type": "code",
   "execution_count": 11,
   "metadata": {},
   "outputs": [
    {
     "ename": "TypeError",
     "evalue": "unsupported operand type(s) for -: 'str' and 'str'",
     "output_type": "error",
     "traceback": [
      "\u001b[1;31m---------------------------------------------------------------------------\u001b[0m",
      "\u001b[1;31mTypeError\u001b[0m                                 Traceback (most recent call last)",
      "Cell \u001b[1;32mIn[11], line 5\u001b[0m\n\u001b[0;32m      3\u001b[0m c \u001b[38;5;241m=\u001b[39m \u001b[38;5;28minput\u001b[39m(\u001b[38;5;28mint\u001b[39m())\n\u001b[0;32m      4\u001b[0m x \u001b[38;5;241m=\u001b[39m a\u001b[38;5;241m+\u001b[39mb\n\u001b[1;32m----> 5\u001b[0m y \u001b[38;5;241m=\u001b[39m \u001b[43mb\u001b[49m\u001b[38;5;241;43m-\u001b[39;49m\u001b[43mc\u001b[49m\n\u001b[0;32m      6\u001b[0m \u001b[38;5;28mprint\u001b[39m (x, y)\n",
      "\u001b[1;31mTypeError\u001b[0m: unsupported operand type(s) for -: 'str' and 'str'"
     ]
    }
   ],
   "source": [
    "a = input(int())\n",
    "b = input(int())\n",
    "c = input(int())\n",
    "x = a+b\n",
    "y = b-c\n",
    "print (x, y)"
   ]
  },
  {
   "attachments": {},
   "cell_type": "markdown",
   "metadata": {
    "datalore": {
     "hide_input_from_viewers": false,
     "hide_output_from_viewers": false,
     "node_id": "Ogk9Rk1a4vNwkI905i51iu",
     "report_properties": {
      "rowId": "NygJS4VgrLbFKuT1hyLAJ6"
     },
     "type": "MD"
    }
   },
   "source": [
    "# Условные операторы и ветвление. Логические выражения\n"
   ]
  },
  {
   "attachments": {},
   "cell_type": "markdown",
   "metadata": {
    "datalore": {
     "hide_input_from_viewers": false,
     "hide_output_from_viewers": false,
     "node_id": "fQsg3mTkpUO0DbvU4O1Yrx",
     "report_properties": {
      "rowId": "d64SjSaGPCFJsxSSpYxyio"
     },
     "type": "MD"
    }
   },
   "source": [
    "## Теоретическая часть\n",
    "\n",
    "Ход выполнения программы называется линейным, если выражения выполняются друг за другом в строго определенном порядке. \n",
    "\n",
    "К сожалению, часто этого не достаточно. В таких случаях используются условные операторы. \n",
    "\n",
    "```python\n",
    "if condition:\n",
    "  # действия, выполняемые при истинности условия condition\n",
    "  pass\n",
    "elif other_condition:\n",
    "  # действия, выполняемые при истинности other_condition\n",
    "  pass\n",
    "else:\n",
    "  # действия, выполняемые во всех остальных случаях\n",
    "  pass\n",
    "```\n",
    "\n",
    "### Вложенные условия\n",
    "\n",
    "Блоки условного оператора могут быть вложены друг в друга. Иногда это необходимо, однако стоит учитывать, что большое количество вложенных условных операторов увеличивает цикломатическую сложность программы. \n"
   ]
  },
  {
   "attachments": {},
   "cell_type": "markdown",
   "metadata": {
    "datalore": {
     "hide_input_from_viewers": false,
     "hide_output_from_viewers": false,
     "node_id": "DttocE7HmRbxXot5EoIhle",
     "report_properties": {
      "rowId": "ZurtmNTuBItI0mQ5mdINyu"
     },
     "type": "MD"
    }
   },
   "source": [
    "### Условия. Операторы сравнения\n",
    "\n",
    "Условия могут формироваться одним из следующих способов:\n",
    "- Любой объект в Python может быть условием. Объект встроенного типа считается ложным, если он равен нулевому числу (любого типа) или пустой коллекции. Все остальные объекты считаются истиными. \n",
    "- Операторы сравнения формируют условия: \n",
    "1. `a == b` - равенство значений объектов. \n",
    "2. `a != b` -  неравенство значений объектов.\n",
    "3. `a < b` - первый объект меньше второго. \n",
    "4. `a > b` - первый объект больше второго.\n",
    "5. `a <= b` - первый объект меньше либо равен второму.\n",
    "6. `a >= b` - первый объект больше либо равен второму. \n",
    "- Составные условия.\n",
    "- Другие инструкции, которые возвращают логическое значение или любой другой объект (см. первый пункт).\n",
    "\n",
    "\n",
    "\n",
    "\n"
   ]
  },
  {
   "attachments": {},
   "cell_type": "markdown",
   "metadata": {
    "datalore": {
     "hide_input_from_viewers": false,
     "hide_output_from_viewers": false,
     "node_id": "vl5QxLnG9MgqlV2Uzt6vPo",
     "report_properties": {
      "rowId": "S5U5Vi0XFGKvHXjEfHXbFP"
     },
     "type": "MD"
    }
   },
   "source": [
    "### Составные условия. Логические операторы\n",
    "\n",
    "Python поддерживает набор логических операторов:\n",
    "- `a in b` - логический оператор вхождения.\n",
    "- `not a` - отрицание. \n",
    "- `a and b` - логическое И.\n",
    "- `a or b` - логическое ИЛИ.\n",
    "\n",
    "В качестве операндов для логических операторов могут присутствовать другие условия, в результате чего получаются составные условия - состоящие из комбинации нескольких. \n",
    "\n",
    "#### Ленивые вычисления в Python\n",
    "\n",
    "Операторы `and` и `or` поддерживают ленивые вычисления. Идея заключается в том, что если нам заранее известен результат логического выражения, у нас нет необходимости вычислять все его операнды. \n",
    "\n",
    "Для `and` вычисления остановятся, когда будет встречен первый ложный элемент.\n",
    "\n",
    "Для `or` вычисления остановятся, когда будет встречен первый истинный элемент.\n",
    "\n",
    "Логические операторы могут быть скомбинированы в сложное условие и вычислено в соответствии с приоритетом операторов:\n",
    "```python\n",
    "if condition1 and condition2 or condition3:\n",
    "  pass\n",
    "```\n",
    "\n",
    "#### Значения, возвращаемые логическими операторами and и or\n",
    "\n",
    "В Python and и or возвращают не True или False, а один из своих операндов(благодаря тому, что любой объект может быть оценен как истина или ложь).\n",
    "\n",
    "|Оператор|Возвращаемое в случае истинности значение|Возвращаемое в случае ложности|\n",
    "|-|-|-|\n",
    "|`or`|первый истинный операнд|последний ложный операнд(последний операнд)|\n",
    "|`and`|первый ложный операнд|последний истинный операнд (последний операнд)|"
   ]
  },
  {
   "attachments": {},
   "cell_type": "markdown",
   "metadata": {
    "datalore": {
     "hide_input_from_viewers": false,
     "hide_output_from_viewers": false,
     "node_id": "1CjL9yLcEfMo9l9olwu41W",
     "report_properties": {
      "rowId": "PO25T3oiwcnbvyRFTy55Bx"
     },
     "type": "MD"
    }
   },
   "source": [
    "### Тернарный условный оператор\n",
    "\n",
    "В Python существует короткая форма записи условного оператора: тернарный оператор. Он может быть использован внутри выражения например, при присвоении переменной. \n",
    "```python\n",
    "a = true_value if condition else false_value\n",
    "```\n",
    "В таком случае, при выполнении условия `condition` в переменную a будет присвоено указанное значение `true_value` а в случае его ложности, `false_value`. "
   ]
  },
  {
   "attachments": {},
   "cell_type": "markdown",
   "metadata": {
    "datalore": {
     "hide_input_from_viewers": false,
     "hide_output_from_viewers": false,
     "node_id": "TBStAc1GIRURipE8dnV4f8",
     "report_properties": {
      "rowId": "eUwvCNI0JTbOW2P0jZ1CLY"
     },
     "type": "MD"
    }
   },
   "source": [
    "## Code Snippets"
   ]
  },
  {
   "attachments": {},
   "cell_type": "markdown",
   "metadata": {
    "datalore": {
     "hide_input_from_viewers": false,
     "hide_output_from_viewers": false,
     "node_id": "KdM4QhPTcFWNZnvwthUKCz",
     "report_properties": {
      "rowId": "4bsL7Z4p7Vgu7TplNRc5vp"
     },
     "type": "MD"
    }
   },
   "source": [
    "### Условные операторы"
   ]
  },
  {
   "cell_type": "code",
   "execution_count": 11,
   "metadata": {
    "datalore": {
     "hide_input_from_viewers": false,
     "hide_output_from_viewers": false,
     "node_id": "pIiouVq8hGLKD6MCI7mzgd",
     "report_properties": {
      "rowId": "brUoKqWn5DIUyfNOuz4Ylp"
     },
     "type": "CODE"
    }
   },
   "outputs": [
    {
     "name": "stdout",
     "output_type": "stream",
     "text": [
      "greater\n"
     ]
    }
   ],
   "source": [
    "# Условный оператор с оператором сравнения\n",
    "a = 100\n",
    "b = 12\n",
    "\n",
    "if a > b:\n",
    "  print('greater')\n",
    "else:\n",
    "  print('not greater')"
   ]
  },
  {
   "cell_type": "code",
   "execution_count": 16,
   "metadata": {
    "datalore": {
     "hide_input_from_viewers": false,
     "hide_output_from_viewers": false,
     "node_id": "hlmBazJGttfb2BXsSjfeOm",
     "report_properties": {
      "rowId": "Y9ozQaUWZkwcHfQaMVapYY"
     },
     "type": "CODE"
    }
   },
   "outputs": [
    {
     "name": "stdout",
     "output_type": "stream",
     "text": [
      "no\n"
     ]
    }
   ],
   "source": [
    "# Объекты могут также быть оценены как истинные или ложные\n",
    "a = 0\n",
    "if a:\n",
    "  print('yes')\n",
    "else: \n",
    "  print('no')"
   ]
  },
  {
   "cell_type": "code",
   "execution_count": 17,
   "metadata": {
    "datalore": {
     "hide_input_from_viewers": false,
     "hide_output_from_viewers": false,
     "node_id": "nG4zPk0fgRRWyIFu3IilYi",
     "report_properties": {
      "rowId": "w49MrCPZCaY4opokZSxvIb"
     },
     "type": "CODE"
    }
   },
   "outputs": [
    {
     "name": "stdout",
     "output_type": "stream",
     "text": [
      "yes\n"
     ]
    }
   ],
   "source": [
    "# Истинными являются все ненулевые объекты и непустые коллекции.\n",
    "a = 21\n",
    "if a:\n",
    "  print('yes')\n",
    "else:\n",
    "  print('no')"
   ]
  },
  {
   "cell_type": "code",
   "execution_count": 19,
   "metadata": {
    "datalore": {
     "hide_input_from_viewers": false,
     "hide_output_from_viewers": false,
     "node_id": "4d9KNgiZQ0kgiDz9fqi73s",
     "report_properties": {
      "rowId": "2OZRVzbFm1q4bcHObu7yiF"
     },
     "type": "CODE"
    }
   },
   "outputs": [
    {
     "name": "stdout",
     "output_type": "stream",
     "text": [
      "no\n"
     ]
    }
   ],
   "source": [
    "# Пример составного условия. Ищем положительное нечетное число.\n",
    "num = int(input('Введите число: '))\n",
    "if num > 0 and num % 2:\n",
    "  print('yes')\n",
    "else:\n",
    "  print('no')"
   ]
  },
  {
   "cell_type": "code",
   "execution_count": null,
   "metadata": {
    "datalore": {
     "hide_input_from_viewers": false,
     "hide_output_from_viewers": false,
     "node_id": "tyFQ4Am67WNZIE3k5rbrJl",
     "report_properties": {
      "rowId": "eZehDCm6osGCRC8Wdt2mag"
     },
     "type": "CODE"
    }
   },
   "outputs": [],
   "source": [
    "# То же самое через вложенные условия.\n",
    "# Фактически, сейчас мы реализуем условие and через вложенные условия.\n",
    "num = int(input('Введите число: '))\n",
    "if num > 0:\n",
    "  if num % 2:\n",
    "    print('yes')\n",
    "  else:\n",
    "    print('no')\n",
    "else:\n",
    "  print('no')"
   ]
  },
  {
   "cell_type": "code",
   "execution_count": 21,
   "metadata": {
    "datalore": {
     "hide_input_from_viewers": false,
     "hide_output_from_viewers": false,
     "node_id": "zDOkL3Ouhc8YPRiK9OHxVV",
     "report_properties": {
      "rowId": "763rXyMvwbwVE8x7exk5fg"
     },
     "type": "CODE"
    }
   },
   "outputs": [
    {
     "name": "stdout",
     "output_type": "stream",
     "text": [
      "< 0\n"
     ]
    }
   ],
   "source": [
    "# В Python нет оператора множественного выбора, но похожее поведение эмулируется\n",
    "# с помощью конструкции elif.\n",
    "a = int(input('Введите число: '))\n",
    "\n",
    "if a > 0:\n",
    "  print('> 0')\n",
    "elif a < 0:\n",
    "  print('< 0')\n",
    "else:\n",
    "  print(' == 0')"
   ]
  },
  {
   "cell_type": "code",
   "execution_count": null,
   "metadata": {},
   "outputs": [],
   "source": [
    "if a > 0:\n",
    "  print('> 0')\n",
    "\n",
    "if a < 0:\n",
    "  print('< 0')\n",
    "  \n",
    "else:\n",
    "  print(' == 0')"
   ]
  },
  {
   "attachments": {},
   "cell_type": "markdown",
   "metadata": {
    "datalore": {
     "hide_input_from_viewers": false,
     "hide_output_from_viewers": false,
     "node_id": "9jh4eGPOqQRxcLGWyMZEPc",
     "report_properties": {
      "rowId": "GFjlzwtwfiLJihtKUXlMch"
     },
     "type": "MD"
    }
   },
   "source": [
    "### Составные условия. Логические операторы"
   ]
  },
  {
   "cell_type": "code",
   "execution_count": 27,
   "metadata": {
    "datalore": {
     "hide_input_from_viewers": false,
     "hide_output_from_viewers": false,
     "node_id": "xTlsJS7IykRieLKaaIUcJT",
     "report_properties": {
      "rowId": "bXLLQzt04adLrO35dINNVK"
     },
     "type": "CODE"
    }
   },
   "outputs": [
    {
     "name": "stdout",
     "output_type": "stream",
     "text": [
      "False\n",
      "True\n"
     ]
    }
   ],
   "source": [
    "# Оператор in проверяет вхождение объекта в коллекцию.\n",
    "lst = [1, 2, 3, 4]\n",
    "print(5 in lst)\n",
    "\n",
    "print('new' in 'new year')"
   ]
  },
  {
   "cell_type": "code",
   "execution_count": 26,
   "metadata": {
    "datalore": {
     "hide_input_from_viewers": false,
     "hide_output_from_viewers": false,
     "node_id": "KLwFRQnkNdebnb52RQJaV8",
     "report_properties": {
      "rowId": "GlKoFeSVLTDq4WiOxEShqz"
     },
     "type": "CODE"
    }
   },
   "outputs": [
    {
     "name": "stdout",
     "output_type": "stream",
     "text": [
      "True\n"
     ]
    }
   ],
   "source": [
    "# Оператор in и not могут быть скомбинированы.\n",
    "lst = [1, 2, 3, 4]\n",
    "print(5 not in lst)"
   ]
  },
  {
   "cell_type": "code",
   "execution_count": 28,
   "metadata": {
    "datalore": {
     "hide_input_from_viewers": false,
     "hide_output_from_viewers": false,
     "node_id": "wj7Y2d74DXiM7LgBTeZgkL",
     "report_properties": {
      "rowId": "fSoud2z83ocVr1VHfmUNd0"
     },
     "type": "CODE"
    }
   },
   "outputs": [
    {
     "name": "stdout",
     "output_type": "stream",
     "text": [
      "[123]\n"
     ]
    }
   ],
   "source": [
    "# Значение, возвращаемое and.\n",
    "lst = [1, 2, 3]\n",
    "lst1 = [123]\n",
    "print(lst and lst1)"
   ]
  },
  {
   "cell_type": "code",
   "execution_count": 29,
   "metadata": {
    "datalore": {
     "hide_input_from_viewers": false,
     "hide_output_from_viewers": false,
     "node_id": "0hvwLO7as0PPVuRm2BwVY6",
     "report_properties": {
      "rowId": "2a0yd02HF9X2MfvP0FdCFh"
     },
     "type": "CODE"
    }
   },
   "outputs": [
    {
     "name": "stdout",
     "output_type": "stream",
     "text": [
      "[]\n"
     ]
    }
   ],
   "source": [
    "# Значение при ложном and.\n",
    "lst = [1, 2, 3]\n",
    "lst1 = []\n",
    "\n",
    "print(lst and lst1)"
   ]
  },
  {
   "cell_type": "code",
   "execution_count": 30,
   "metadata": {
    "datalore": {
     "hide_input_from_viewers": false,
     "hide_output_from_viewers": false,
     "node_id": "K6HiQXeZu5aenZ74KkvqLV",
     "report_properties": {
      "rowId": "ShnJaNPcwosEYYz8XgZOti"
     },
     "type": "CODE"
    }
   },
   "outputs": [
    {
     "name": "stdout",
     "output_type": "stream",
     "text": [
      "[1]\n"
     ]
    }
   ],
   "source": [
    "# Значение, возвращаемое при истинном or.\n",
    "lst = [1]\n",
    "dct = {2:3}\n",
    "print(lst or dct)"
   ]
  },
  {
   "cell_type": "code",
   "execution_count": null,
   "metadata": {
    "datalore": {
     "hide_input_from_viewers": false,
     "hide_output_from_viewers": false,
     "node_id": "Gm9BE3mUkVTbfmJhP0gZQC",
     "report_properties": {
      "rowId": "i4dlMp6e1RHIVrvmXC7RkA"
     },
     "type": "CODE"
    }
   },
   "outputs": [
    {
     "name": "stdout",
     "output_type": "stream",
     "text": [
      "{}\n"
     ]
    }
   ],
   "source": [
    "# Значение, возвращаемое при ложном or.\n",
    "lst = []\n",
    "dct = {}\n",
    "print(lst or dct)"
   ]
  },
  {
   "cell_type": "code",
   "execution_count": 31,
   "metadata": {
    "datalore": {
     "hide_input_from_viewers": false,
     "hide_output_from_viewers": false,
     "node_id": "HAl7SDWo5vJhiWOW9Mw5mh",
     "report_properties": {
      "rowId": "N4JGunAcw8ikJu0M8Qf0El"
     },
     "type": "CODE"
    }
   },
   "outputs": [
    {
     "name": "stdout",
     "output_type": "stream",
     "text": [
      "f2\n"
     ]
    }
   ],
   "source": [
    "# Проверим, что наши операторы ленивые. \n",
    "def f1():\n",
    "  print('f1')\n",
    "  return True\n",
    "\n",
    "def f2():\n",
    "  print('f2')\n",
    "  return False\n",
    "\n",
    "value = f2() and f1()"
   ]
  },
  {
   "attachments": {},
   "cell_type": "markdown",
   "metadata": {
    "datalore": {
     "hide_input_from_viewers": false,
     "hide_output_from_viewers": false,
     "node_id": "bi7n7GgsvN4nsHopf9dkjD",
     "report_properties": {
      "rowId": "O7zNYVg9FTY7aWY4xvpn2x"
     },
     "type": "MD"
    }
   },
   "source": [
    "### Тернарный оператор"
   ]
  },
  {
   "cell_type": "code",
   "execution_count": null,
   "metadata": {
    "datalore": {
     "hide_input_from_viewers": false,
     "hide_output_from_viewers": false,
     "node_id": "AfncMhlOJqPp7Ew1zXmHvB",
     "report_properties": {
      "rowId": "dlkvgUG8Y2c4uebqoOPefP"
     },
     "type": "CODE"
    }
   },
   "outputs": [],
   "source": [
    "# Проверим, была ли введена непустая строка.\n",
    "val = input('Введите строку:')\n",
    "if val:\n",
    "  print(val)\n",
    "else: \n",
    "  print('Пустая строка')"
   ]
  },
  {
   "cell_type": "code",
   "execution_count": null,
   "metadata": {
    "datalore": {
     "hide_input_from_viewers": false,
     "hide_output_from_viewers": false,
     "node_id": "p0IPr9O6q2L5dJY5MN64Ar",
     "report_properties": {
      "rowId": "D3NnaiNpvegX1WxNOCNxoT"
     },
     "type": "CODE"
    }
   },
   "outputs": [],
   "source": [
    "# То же самое, но с тернарным оператором.\n",
    "val = input('Введите строку:')\n",
    "print(val) if val else print('Пустая строка')"
   ]
  },
  {
   "cell_type": "code",
   "execution_count": 32,
   "metadata": {
    "datalore": {
     "hide_input_from_viewers": false,
     "hide_output_from_viewers": false,
     "node_id": "YX3PBs15GA8X3Aj2pPLHwl",
     "report_properties": {
      "rowId": "Q0vc7PvF2eIG8woDQdbQt3"
     },
     "type": "CODE"
    }
   },
   "outputs": [
    {
     "name": "stdout",
     "output_type": "stream",
     "text": [
      "False\n"
     ]
    }
   ],
   "source": [
    "# Пример с присвоением результата значению.\n",
    "a = int(input('Введите число: '))\n",
    "odd = True if a % 2 else False\n",
    "print(odd)"
   ]
  },
  {
   "attachments": {},
   "cell_type": "markdown",
   "metadata": {
    "datalore": {
     "hide_input_from_viewers": false,
     "hide_output_from_viewers": false,
     "node_id": "olvDYwAgdrwx60tIEBoZ2q",
     "report_properties": {
      "rowId": "XRS0L3m5xTIqhciBwaj2lu"
     },
     "type": "MD"
    }
   },
   "source": [
    "## Задачи для закрепления на занятии\n",
    "1. Проверьте делимость числа на 17.\n",
    "2. Если число нечетное, выведите “ого”, если четное “ага”.\n",
    "3. Если число нечетное, выведите “ого”\n",
    "если число четное, **и** отрицательное, выведите “маловато”,\n",
    "если число четное **и** положительное, выведите “нормально”,\n",
    "если число равно нулю, выведите “на нет спроса нет”.\n",
    "4. Переписать оператор `or` через вложенные условные операторы."
   ]
  }
 ],
 "metadata": {
  "datalore": {
   "base_environment": "default",
   "computation_mode": "JUPYTER",
   "package_manager": "pip",
   "packages": [],
   "report_row_ids": [
    "E2uZASgmnAEQ3hlOKqPXzs",
    "qOzzfzGQELCa6yRMZiSlNt",
    "gv85pkfIBMvBYBWufueoCg",
    "9vbBNmwSzQP7IumGQ6oPCh",
    "D7xJFv6q1Ymq03nyUByUcz",
    "SjN4PUTowQUTPidwrADgh6",
    "rmhQeE3ELMvGbgI9RWELFb",
    "5VJQdNe10ulFm1n3noWYGc",
    "if5vTJm52qt6HHHxIa963S",
    "yYNxoTjLFflkVODegzIIG5",
    "EbNxj5XGeV8vpwJLY1jicm",
    "biwTVmaOKWXD0NU0LpZEYq",
    "NygJS4VgrLbFKuT1hyLAJ6",
    "d64SjSaGPCFJsxSSpYxyio",
    "ZurtmNTuBItI0mQ5mdINyu",
    "S5U5Vi0XFGKvHXjEfHXbFP",
    "PO25T3oiwcnbvyRFTy55Bx",
    "eUwvCNI0JTbOW2P0jZ1CLY",
    "4bsL7Z4p7Vgu7TplNRc5vp",
    "brUoKqWn5DIUyfNOuz4Ylp",
    "Y9ozQaUWZkwcHfQaMVapYY",
    "w49MrCPZCaY4opokZSxvIb",
    "2OZRVzbFm1q4bcHObu7yiF",
    "eZehDCm6osGCRC8Wdt2mag",
    "763rXyMvwbwVE8x7exk5fg",
    "GFjlzwtwfiLJihtKUXlMch",
    "bXLLQzt04adLrO35dINNVK",
    "GlKoFeSVLTDq4WiOxEShqz",
    "fSoud2z83ocVr1VHfmUNd0",
    "2a0yd02HF9X2MfvP0FdCFh",
    "ShnJaNPcwosEYYz8XgZOti",
    "i4dlMp6e1RHIVrvmXC7RkA",
    "N4JGunAcw8ikJu0M8Qf0El",
    "O7zNYVg9FTY7aWY4xvpn2x",
    "dlkvgUG8Y2c4uebqoOPefP",
    "D3NnaiNpvegX1WxNOCNxoT",
    "Q0vc7PvF2eIG8woDQdbQt3",
    "XRS0L3m5xTIqhciBwaj2lu",
    "89OMLyGOMtHNKrbPm1uie2"
   ],
   "version": 3
  },
  "kernelspec": {
   "display_name": "Python 3",
   "language": "python",
   "name": "python3"
  },
  "language_info": {
   "codemirror_mode": {
    "name": "ipython",
    "version": 3
   },
   "file_extension": ".py",
   "mimetype": "text/x-python",
   "name": "python",
   "nbconvert_exporter": "python",
   "pygments_lexer": "ipython3",
   "version": "3.10.11"
  }
 },
 "nbformat": 4,
 "nbformat_minor": 4
}
